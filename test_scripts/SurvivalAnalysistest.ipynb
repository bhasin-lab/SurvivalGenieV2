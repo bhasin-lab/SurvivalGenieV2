{
 "cells": [
  {
   "cell_type": "code",
   "execution_count": 1,
   "id": "8039bf7a-4a6d-4f2f-a0ba-621d24a22362",
   "metadata": {},
   "outputs": [
    {
     "name": "stdout",
     "output_type": "stream",
     "text": [
      "TARGET-ALL-P1_clinical_OS.txt\t     TARGET-CCSK_clinical_OS.txt\n",
      "TARGET-ALL-P2-Bcell_clinical_OS.txt  TARGET-NBL_clinical_OS.txt\n",
      "TARGET-ALL-P2_clinical_OS.txt\t     TARGET-OS_clinical_OS.txt\n",
      "TARGET-ALL-P2-Tcell_clinical_OS.txt  TARGET-RT_clinical_OS.txt\n",
      "TARGET-ALL-P3_clinical_OS.txt\t     TARGET-WT_clinical_OS.txt\n",
      "TARGET-AML_clinical_OS.txt\n"
     ]
    }
   ],
   "source": [
    "! ls /labs/bhasinlab/Shiny_Test/SurvivalGenie/data/TARGET_EXCEL_CLINICAL"
   ]
  },
  {
   "cell_type": "code",
   "execution_count": 2,
   "id": "e21b6b2b-6abf-45e9-9e32-3f2b22a04bf9",
   "metadata": {},
   "outputs": [
    {
     "name": "stdout",
     "output_type": "stream",
     "text": [
      "ensg\tsymbol\n",
      "ENSG00000000003.13\tTSPAN6\n",
      "ENSG00000000005.5\tTNMD\n",
      "   \n",
      "case_id\tsubmitter_id.x\tdays_to_last_follow_up\tdays_to_death\tvital_status\tVital.Status\tOverall.Survival.Time.in.Days\n",
      "3e4851ca-4d69-4035-a2dd-8ed6e70f1ffb\tTCGA-S9-A6WD_diagnosis\t2289\tNA\tAlive\tAlive\t2289\n",
      "2c03e8b9-8856-43a7-853d-5ec51a6e5330\tTCGA-DH-5140_diagnosis\tNA\t607\tDead\tDead\t607\n",
      "491ea65b-86c8-4686-99cf-f09505e20183\tTCGA-HT-7693_diagnosis\t533\tNA\tAlive\tAlive\t533\n",
      "648252da-dd86-48d1-ae75-4257e3142b0b\tTCGA-FG-5964_diagnosis\t1588\tNA\tAlive\tAlive\t1588\n",
      "bc3b4816-df1d-44ed-a8c6-f32c8e011a1f\tTCGA-HW-8319_diagnosis\t660\t1209\tDead\tDead\t1209\n",
      "c40ab957-fe46-43b1-992d-b4e2040a3f57\tTCGA-FG-7637_diagnosis\t1219\tNA\tAlive\tAlive\t1219\n",
      "50975570-c0d5-4ee7-9226-40b3db1bde84\tTCGA-VM-A8C9_diagnosis\t1314\tNA\tAlive\tAlive\t1314\n",
      "f6a81d81-7df4-4273-8a86-e0cd3b8b1df5\tTCGA-S9-A7IS_diagnosis\tNA\t241\tDead\tDead\t241\n",
      "b027ab77-70eb-4877-91a3-702064d9cc8b\tTCGA-HT-7684_diagnosis\t184\tNA\tAlive\tAlive\t184\n",
      "442df188-b678-45bb-bd9d-7071ed8aaa5a\tTCGA-KT-A74X_diagnosis\t438\tNA\tAlive\tAlive\t438\n",
      "5a769292-c3ce-4e18-b821-2bfe0e24978c\tTCGA-DU-7302_diagnosis\t1834\tNA\tAlive\tAlive\t1834\n",
      "80db28ec-ab3d-42a7-af88-b60fe8acb5b5\tTCGA-HT-8018_diagnosis\t654\t1152\tDead\tDead\t1152\n",
      "8e2dcc00-9f7e-4dee-b24d-43c8b30294c5\tTCGA-DU-7007_diagnosis\tNA\t1915\tDead\tDead\t1915\n",
      "38eca720-ad68-43a7-8a1c-f79f838d5d03\tTCGA-S9-A6U9_diagnosis\t2918\tNA\tAlive\tAlive\t2918\n",
      "ad1c5951-ca93-4102-889b-e28e2bcfea76\tTCGA-HT-8110_diagnosis\t419\tNA\tAlive\tAlive\t419\n",
      "71ec4c84-4aef-4c1f-ab07-dc264c5c0602\tTCGA-TM-A84I_diagnosis\t854\tNA\tAlive\tAlive\t854\n",
      "02194c0c-e2c1-4ea7-994a-07b61b2575e2\tTCGA-HT-7902_diagnosis\t956\tNA\tAlive\tAlive\t956\n",
      "15a6ad18-a81c-4f5b-80ae-ef56ccf722f9\tTCGA-DB-5281_diagnosis\t2381\tNA\tAlive\tAlive\t2381\n",
      "d61b5d20-4d6d-4fdc-afe8-4b100b686eda\tTCGA-DU-7013_diagnosis\tNA\t269\tDead\tDead\t269\n"
     ]
    }
   ],
   "source": [
    "! head -3 /labs/bhasinlab/Shiny_Test/SurvivalGenie/data/GDC_FPKM/metastatic/TCGA-BLCA_FPKM.txt\n",
    "! echo '   '\n",
    "! head -20 /labs/bhasinlab/Shiny_Test/SurvivalGenie/data/GDC_FPKM/primary/TCGA-LGG_clinical_OS.txt\n",
    "# ! echo '   '\n",
    "# ! head -3 /labs/bhasinlab/Shiny_Test/SurvivalGenie/data/GDC_FPKM/metastatic/TCGA-ACC_clinical.txt"
   ]
  },
  {
   "cell_type": "code",
   "execution_count": 1,
   "id": "29b92d6d-2206-414d-9d2b-b5298cfc15ca",
   "metadata": {
    "tags": []
   },
   "outputs": [],
   "source": [
    "import os \n",
    "from os import path\n",
    "import pandas as pd \n",
    "import numpy as np\n",
    "from lifelines import CoxPHFitter\n",
    "from tqdm import tqdm"
   ]
  },
  {
   "cell_type": "code",
   "execution_count": 2,
   "id": "76bd0f01-27e7-40be-983d-becf61f2f71e",
   "metadata": {},
   "outputs": [],
   "source": [
    "FILE_DIR = \"/labs/bhasinlab/Shiny_Test/SurvivalGenie/data/\"\n",
    "FPKM_DIR = \"GDC_FPKM\"\n",
    "MAF_DIR = \"GDC_MAF\"\n",
    "TARGET_DIR = \"TARGET_EXCEL_CLINICAL\"\n",
    "# readOSFile <- paste(FILE_DIR, FPKM_DIR, tumor_type, osFile, sep='/')"
   ]
  },
  {
   "cell_type": "code",
   "execution_count": 3,
   "id": "4cf66634-b4e8-4848-ab3f-32f903b61db6",
   "metadata": {},
   "outputs": [],
   "source": [
    "gene = [\"TP53\",\"CD8A\"] # sig_gene / user_gene / use as list anyway\n",
    "datasets = [\"TCGA-ACC\",\"TCGA-LGG\"]\n",
    "tumor_type = \"primary\" # metastatic  primary  recurrent\n",
    "survival = \"overall\"\n",
    "group_method = \"cutp\""
   ]
  },
  {
   "cell_type": "code",
   "execution_count": 4,
   "id": "8ecb73d4-4c81-404c-8b51-1f4c94560df2",
   "metadata": {},
   "outputs": [],
   "source": [
    "df_cox = [\"Dataset\", \"HR_Ratio\",\"HR_CI_low\", \"HR_CI_high\", \"nlow\", \"nhigh\", \"HR\", \"HR_Pvalue\", \"Cut_Point\", \"LR_Pvalue\"]\n",
    "alias1 = [\"Dataset\", \"HR\", \"HR\", \"HR\", \"nLow\", \"nHigh\", \"HR\", \"HR\", \"Point\", \"LR\"]\n",
    "alias2 = [\"\", \"Ratio\", \"CI-lower\", \"CI-upper\", \"Cases\", \"Cases\", \"(95% CI)\", \"Pvalue\", \"Cut\", \"Pvalue\"]"
   ]
  },
  {
   "cell_type": "code",
   "execution_count": null,
   "id": "33d376ff-47bd-4c41-b756-25bfad69f09d",
   "metadata": {},
   "outputs": [],
   "source": [
    "def cutp_opt(df, survival_type):\n",
    "    # R file functions/find_cutp.R \n",
    "    cph = CoxPHFitter()\n",
    "    if survival_type == \"Overall\":\n",
    "        df[\"overall_survival_time_in_months\"] = df[\"Overall.Survival.Time.in.Months\"]/30.42\n",
    "        cph.fit(df, duration_col='overall_survival_time_in_months', event_col='vital_status', \n",
    "                formula=\"1 + gx_score\") # formula=\"a + b + c * d\"        # cph.print_summary()    \n",
    "    else: \n",
    "        df[\"overall_survival_time_in_months\"] = df[\"Overall.Survival.Time.in.Months\"]/30.42\n",
    "        cph.fit(df, duration_col='overall_survival_time_in_months', event_col='vital_status', \n",
    "                formula=\"1 + gx_score\")\n",
    "    \n",
    "    pass"
   ]
  },
  {
   "cell_type": "code",
   "execution_count": 5,
   "id": "6f090e6d-8524-4c66-a727-825402fda745",
   "metadata": {},
   "outputs": [
    {
     "name": "stdout",
     "output_type": "stream",
     "text": [
      "                        gx_score      CD8A\n",
      "sample_id                                 \n",
      "TCGA-OR-A5K3_diagnosis  2.499300  0.242608\n",
      "TCGA-OR-A5K4_diagnosis  3.377964  0.241218\n",
      "TCGA-OR-A5K2_diagnosis  3.291412  0.172091\n",
      "TCGA-OR-A5K9_diagnosis  3.849499  0.195453\n",
      "TCGA-OR-A5KV_diagnosis  3.832703  1.905271\n",
      "...                          ...       ...\n",
      "TCGA-OR-A5J9_diagnosis  3.952252  0.400784\n",
      "TCGA-PK-A5H9_diagnosis  3.645753  0.688979\n",
      "TCGA-OR-A5JV_diagnosis  3.038108  0.887177\n",
      "TCGA-OR-A5K0_diagnosis  3.574059  0.090537\n",
      "TCGA-OR-A5LR_diagnosis  2.977614  0.426142\n",
      "\n",
      "[79 rows x 2 columns]\n"
     ]
    }
   ],
   "source": [
    "# survival Genie 1 line 5604\n",
    "for dataset in datasets:\n",
    "    exp_file = path.join(FILE_DIR,FPKM_DIR,tumor_type,f\"{dataset}_FPKM.txt\")\n",
    "    # check file existence\n",
    "    assert path.isfile(exp_file)\n",
    "    exp_df = pd.read_csv(exp_file, sep='\\t')\n",
    "    # rename symbol column name \n",
    "    exp_df.rename(columns={ exp_df.columns[1]: \"symbol\" }, inplace = True)\n",
    "    exp_df[\"symbol\"] = exp_df[\"symbol\"].apply(lambda x: x.upper())\n",
    "    exp_df.set_index(\"symbol\",inplace=True)\n",
    "    # exp_df: column names: [symbol, sample_ids,] .... row names: [symbol names,]\n",
    "\n",
    "    if survival == \"overall\":\n",
    "        clinicalos_file = path.join(FILE_DIR,FPKM_DIR,tumor_type,f\"{dataset}_clinical_OS.txt\")\n",
    "        # check file existence \n",
    "        assert path.isfile(clinicalos_file)\n",
    "        clinicalos_df = pd.read_csv(clinicalos_file, sep='\\t')\n",
    "        clinicalos_df.rename(columns={ clinicalos_df.columns[1]: \"sample_id\" }, inplace = True)\n",
    "        samples = clinicalos_df[(~clinicalos_df[\"Overall.Survival.Time.in.Days\"].isna()) &\n",
    "                                ~clinicalos_df[\"vital_status\"].isna()]\n",
    "        samples = samples[samples[\"vital_status\"].isin([\"Alive\", \"Dead\"])]\n",
    "        # samples: colnames: [case id, sample id, days, status], rownames: [sample ids]\n",
    "        if (samples.shape[0] < 20) or (len(samples[\"vital_status\"].unique()) < 2):\n",
    "            print(\"Not enough events for survival analysis\")\n",
    "            break\n",
    "    else: # event free survival; only apply for TARGET dataset\n",
    "        clinicalos_file = path.join(FILE_DIR,TARGET_DIR,tumor_type,f\"{dataset}_clinical_OS.txt\")\n",
    "        # check file existence \n",
    "        assert path.isfile(clinicalos_file)\n",
    "        clinicalos_df = pd.read_csv(clinicalos_file, sep='\\t')\n",
    "        clinicalos_df.rename(columns={ clinicalos_df.columns[1]: \"sample_id\" }, inplace = True)\n",
    "        samples = clinicalos_df[(~clinicalos_df[\"Event.Free.Survival.Time.in.Days\"].isna()) &\n",
    "                                ~clinicalos_df[\"First.Event\"].isna()]\n",
    "        samples[\"first_event\"] = samples[\"First.Event\"].astype(str)\n",
    "        samples[\"event_status\"] = \"Event\"\n",
    "        samples[samples[\"first_event\"].isin([\"None\", \"Censored\"]) & samples[\"vital_status\"]==\"Alive\"] = \"NoEvent\"\n",
    "        if (samples.shape[0] < 20) or (len(samples[\"event_status\"].unique()) < 2):\n",
    "            print(\"Not enough events for survival analysis\")\n",
    "            break\n",
    "    assert len(samples.sample_id) == len(set(samples.sample_id))\n",
    "    samples.set_index('sample_id',inplace=True)\n",
    "    samples[\"vital_status\"] = samples[\"vital_status\"].astype(\"category\")\n",
    "    samples['vital_status_code'] = samples['vital_status'].cat.codes\n",
    "    \n",
    "    # check line 5651\n",
    "    gene_fpkm = exp_df[exp_df.index.isin(gene)]\n",
    "    # intersection of gex column names and survival sample ids \n",
    "    gene_fpkm = gene_fpkm[list(set(exp_df.columns) & set(samples.index))]\n",
    "    gene_fpkm = np.log2(gene_fpkm+1)\n",
    "    assert gene_fpkm.sum().sum() > 0 and gene_fpkm.shape[0] > 0\n",
    "    \n",
    "    # Define a score; if one gene just use thexpressio; is multiple genes, use the most variable one\n",
    "    # ????????????? why ???????????????\n",
    "    scores = gene_fpkm.T.rename_axis('sample_id', axis=0).rename_axis(None, axis=1)\n",
    "    # if gene_fpkm.shape[0] > 1: # gene set/multiple gene\n",
    "    #     scores = scores[[gene_fpkm.index[np.argmax(gene_fpkm.apply(axis=1, func=np.var))]]]\n",
    "    scores.rename(columns={scores.columns[0]:'gx_score'}, inplace=True)\n",
    "    print(scores)\n",
    "    if group_method == \"cutp\": # separate high / low group with cutp\n",
    "        sample_score = pd.concat([samples, scores[\"gx_score\"]], axis=1)\n",
    "        # f = opt_cutp(sample_score, survival_type=survival)\n",
    "        pass\n",
    "    else: # separate high/low group with Median, Mean, etc\n",
    "        pass\n",
    "    # print(scores)#pd.concat([samples, scores], axis=1))\n",
    "    break"
   ]
  },
  {
   "cell_type": "code",
   "execution_count": 6,
   "id": "3cc0ee45-ae26-4b6c-a8c6-20a50503c94c",
   "metadata": {
    "tags": []
   },
   "outputs": [
    {
     "data": {
      "text/plain": [
       "0"
      ]
     },
     "execution_count": 6,
     "metadata": {},
     "output_type": "execute_result"
    }
   ],
   "source": [
    "# gene_fpkm.apply(axis=1, func=np.var)\n",
    "sum(sample_score[\"gx_score\"].isna()) #\"Overall.Survival.Time.in.Days\" # overall_survival_time_in_months"
   ]
  },
  {
   "cell_type": "code",
   "execution_count": 73,
   "id": "81a45811-057d-4c25-8c73-c27ae980bfcc",
   "metadata": {
    "tags": []
   },
   "outputs": [
    {
     "data": {
      "text/plain": [
       "<Axes: xlabel='log(HR) (95% CI)'>"
      ]
     },
     "execution_count": 73,
     "metadata": {},
     "output_type": "execute_result"
    },
    {
     "data": {
      "image/png": "[encoded data removed]",
      "text/plain": [
       "<Figure size 640x480 with 1 Axes>"
      ]
     },
     "metadata": {},
     "output_type": "display_data"
    }
   ],
   "source": [
    "cph = CoxPHFitter()\n",
    "df = sample_score\n",
    "# if survival_type == \"Overall\":\n",
    "df[\"overall_survival_time_in_months\"] = df[\"Overall.Survival.Time.in.Days\"]/30.42\n",
    "\n",
    "cph.fit(df, duration_col='overall_survival_time_in_months', event_col='vital_status_code', \n",
    "        formula=\"1 + gx_score\") # formula=\"a + b + c * d\"        # cph.print_summary()    \n",
    "cph.plot()\n",
    "# else: \n",
    "    # df[\"event_free_survival_time_in_months\"] = df[\"Event.Free.Survival.Time.in.Days\"]/30.42\n",
    "    # cph.fit(df, duration_col='event_free_survival_time_in_months', event_col='vital_status', \n",
    "            # formula=\"1 + gx_score\")"
   ]
  },
  {
   "cell_type": "code",
   "execution_count": null,
   "id": "65ae1c09-4358-46f0-835f-701151611e0c",
   "metadata": {},
   "outputs": [],
   "source": [
    "import scipy.stats as ss\n",
    "\n",
    "def comp_scores(y,method):\n",
    "    assert method in [\"Wilcoxon\", \"Median\", \"NormalQuantile\", \"AnsariBradley\", \"Savage\", \"ConSal\", \"Data\"], f\"method: {method} not available\"\n",
    "    N=len(y)\n",
    "    if method ==\"Wilcoxon\":\n",
    "        return ss.rankdata(y)\n",
    "    elif method == \"Data\":\n",
    "        return y\n",
    "    elif method==\"NormalQuantile\":\n",
    "        return ss.norm.ppf(ss.rankdata(y)/(N+1))\n",
    "    elif method==\"AnsariBradley\":\n",
    "        y_ranks = ss.rankdata(y)\n",
    "        pmin(r, N - r + 1)\n",
    "        return \n",
    "    elif method==\"Median\":\n",
    "             r <- rank(y)\n",
    "             r[r <= (N+1)/2] <- 0\n",
    "             r[r > 0] <- 1\n",
    "             r},\n",
    "    elif method==\"Savage\":\n",
    "        = {\n",
    "             cscores.Surv(cbind(y, 1)) },\n",
    "    elif method==\"ConSal:\n",
    "             (rank(y)/(N+1))^4"
   ]
  },
  {
   "cell_type": "code",
   "execution_count": null,
   "id": "c2526016-329e-42f2-9c7c-14b9087a1d19",
   "metadata": {},
   "outputs": [],
   "source": [
    "def maxstat_test(y,x,weights=None,\n",
    "                s_method=[\"Wilcoxon\", \"Median\", \"NormalQuantile\", \"AnsariBradley\", \"Savage\", \"ConSal\", \"Data\"],\n",
    "                p_method=[\"none\", \"Lau92\", \"Lau94\", \"exactGauss\", \"HL\", \"condMC\", \"min\"],\n",
    "                i_scores=(p_method==\"HL\"),\n",
    "                min_prop=.1, max_prop=.9,\n",
    "                alpha=NULL, keepxy=TRUE):\n",
    "    # only implement Wilcoxon/none first\n",
    "    assert s_method in [\"Wilcoxon\", \"Median\", \"NormalQuantile\", \"AnsariBradley\", \"Savage\", \"ConSal\", \"Data\"], f\"s_method: {s_method} not available\"\n",
    "    assert p_method in [\"none\", \"Lau92\", \"Lau94\", \"exactGauss\", \"HL\", \"condMC\", \"min\"], f\"p_method:{p_method} not available\"\n",
    "    assert x, \"no data given\"\n",
    "    MULTIMAX = type(x) == pd.DataFrame\n",
    "    \n",
    "    scores = \n",
    "    pass"
   ]
  },
  {
   "cell_type": "code",
   "execution_count": 83,
   "id": "e9bd5789-8e7a-4b1e-bdca-c4fefe7abec3",
   "metadata": {
    "tags": []
   },
   "outputs": [],
   "source": [
    "def cutpoint(df, time, event, variables, min_prop=.1, pregressbar=True):\n",
    "    \n",
    "    # input validation\n",
    "    assert type(df) == pd.DataFrame, \"Input is not a DataFrame\"\n",
    "    assert time in df.columns and event in df.columns, \"Specify correct column names containing time and event values.\"\n",
    "    assert all([i in df.columns for i in variables]), \\\n",
    "            \"Some variables are not found in the data: {}\".format(\", \".join([i for i in variables if i not in df.columns]))\n",
    "    #only test on numeric variables\n",
    "    variables = list(set(variables) & set(df.select_dtypes(include=np.number).columns))\n",
    "    assert len(variables)>0, \"At least, one numeric variables required.\"\n",
    "    \n",
    "    # loop through variables\n",
    "    surv_data = df[[time, event]].rename(columns={time:\"time\", event:\"event\"})\n",
    "    res = dict\n",
    "    pregressbar = pregressbar if len(variables > 5) else False\n",
    "    for var in (tqdm(variables) if pregressbar else variables):\n",
    "        surv_data[\"_var\"] = df[var]\n",
    "        # TODO cut = maxstat::maxstat.test\n",
    "        # res[var] = tmp\n",
    "    # Return values\n",
    "    return res"
   ]
  },
  {
   "cell_type": "code",
   "execution_count": null,
   "id": "0f8723bc-c5de-4947-91c5-5b23a16dfa2e",
   "metadata": {},
   "outputs": [],
   "source": [
    "surv_cutpoint <- function(data, time = \"time\", event = \"event\", variables,\n",
    "                    minprop = 0.1, progressbar = TRUE)\n",
    "  {\n",
    "  if(!inherits(data, \"data.frame\"))\n",
    "    stop(\"data should be an object of class data.frame\")\n",
    "  data <- as.data.frame(data)\n",
    "  if(!all(c(time, event) %in% colnames(data)))\n",
    "    stop(\"Specify correct column names containing time and event values.\")\n",
    "  if(!all(variables %in% colnames(data)))\n",
    "    stop(\"Some variables are not found in the data: \",\n",
    "         paste(setdiff(variables, colnames(data)), collapse =\", \"))\n",
    "\n",
    "  not_numeric_vars <- .get_not_numeric_vars(data[, variables, drop = FALSE])\n",
    "  variables <- setdiff(variables, not_numeric_vars) # keep only numeric variables\n",
    "  if(length(variables)==0) stop(\"At least, one numeric variables required.\")\n",
    "\n",
    "  nvar <- length(variables)\n",
    "  if(nvar <= 5) progressbar <- FALSE\n",
    "  if(progressbar) pb <- utils::txtProgressBar(min = 0, max = nvar, style = 3)\n",
    "  surv_data <- data.frame(time = data[, time], event = data[, event])\n",
    "  res <- list()\n",
    "  for (i in 1:nvar){\n",
    "    var_i <- variables[i]\n",
    "    surv_data$var <- data[, var_i]\n",
    "    max_stat_i <- maxstat::maxstat.test(survival::Surv(time, event) ~ var, data = surv_data,\n",
    "                                      smethod = \"LogRank\", pmethod=\"none\",\n",
    "                                      minprop = minprop, maxprop = 1-minprop,\n",
    "                                      alpha = alpha)\n",
    "    res[[var_i]] <- max_stat_i\n",
    "    if(progressbar) utils::setTxtProgressBar(pb, i)\n",
    "  }\n",
    "  colnames(surv_data) <- c(time, event)\n",
    "  res$data <- cbind.data.frame(surv_data[, 1:2, drop = FALSE], data[, variables, drop = FALSE])\n",
    "  res$minprop <- minprop\n",
    "  if(!is.null(not_numeric_vars)) res$not_numeric <- data[, not_numeric_vars, drop = FALSE]\n",
    "  res <- structure(res, class = c(\"list\", \"surv_cutpoint\"))\n",
    "  res$cutpoint <- summary(res)\n",
    "  res\n",
    "}"
   ]
  }
 ],
 "metadata": {
  "kernelspec": {
   "display_name": "Python 3 (ipykernel)",
   "language": "python",
   "name": "python3"
  },
  "language_info": {
   "codemirror_mode": {
    "name": "ipython",
    "version": 3
   },
   "file_extension": ".py",
   "mimetype": "text/x-python",
   "name": "python",
   "nbconvert_exporter": "python",
   "pygments_lexer": "ipython3",
   "version": "3.11.4"
  }
 },
 "nbformat": 4,
 "nbformat_minor": 5
}
